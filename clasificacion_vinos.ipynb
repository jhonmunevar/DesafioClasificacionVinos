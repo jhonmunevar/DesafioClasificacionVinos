{
 "cells": [
  {
   "cell_type": "code",
   "execution_count": null,
   "metadata": {
    "application/vnd.databricks.v1+cell": {
     "cellMetadata": {
      "byteLimit": 2048000,
      "rowLimit": 10000
     },
     "inputWidgets": {},
     "nuid": "8abaace6-ddd0-4297-9d49-51945a7425b1",
     "showTitle": false,
     "title": ""
    }
   },
   "outputs": [
    {
     "name": "stdout",
     "output_type": "stream",
     "text": [
      "Out[2]: <ActiveRun: >"
     ]
    }
   ],
   "source": [
    "# Importar las librerías necesarias\n",
    "import pandas as pd\n",
    "import numpy as np\n",
    "from sklearn.model_selection import train_test_split\n",
    "from sklearn.ensemble import RandomForestClassifier, GradientBoostingClassifier\n",
    "from sklearn.svm import SVC\n",
    "from sklearn.metrics import classification_report, confusion_matrix, accuracy_score, f1_score, roc_auc_score\n",
    "from sklearn.preprocessing import StandardScaler\n",
    "from imblearn.over_sampling import SMOTE\n",
    "import matplotlib.pyplot as plt\n",
    "import seaborn as sns\n",
    "import mlflow\n",
    "import mlflow.sklearn\n",
    "mlflow.end_run()\n",
    "\n",
    "# Iniciar una nueva sesión de MLflow\n",
    "mlflow.start_run(run_name=\"Vinos clasificacion\")"
   ]
  },
  {
   "cell_type": "code",
   "execution_count": null,
   "metadata": {
    "application/vnd.databricks.v1+cell": {
     "cellMetadata": {
      "byteLimit": 2048000,
      "rowLimit": 10000
     },
     "inputWidgets": {},
     "nuid": "e7805718-b497-495c-9d65-2cdbe69d6ca9",
     "showTitle": false,
     "title": ""
    }
   },
   "outputs": [
    {
     "name": "stdout",
     "output_type": "stream",
     "text": [
      "   Class  Alcohol  Malic_Acid   Ash  Alcalinity_of_Ash  Magnesium  \\\n",
      "0      1    14.23        1.71  2.43               15.6        127   \n",
      "1      1    13.20        1.78  2.14               11.2        100   \n",
      "2      1    13.16        2.36  2.67               18.6        101   \n",
      "3      1    14.37        1.95  2.50               16.8        113   \n",
      "4      1    13.24        2.59  2.87               21.0        118   \n",
      "\n",
      "   Total_Phenols  Flavanoids  Nonflavanoid_Phenols  Proanthocyanins  \\\n",
      "0           2.80        3.06                  0.28             2.29   \n",
      "1           2.65        2.76                  0.26             1.28   \n",
      "2           2.80        3.24                  0.30             2.81   \n",
      "3           3.85        3.49                  0.24             2.18   \n",
      "4           2.80        2.69                  0.39             1.82   \n",
      "\n",
      "   Color_Intensity   Hue  OD280_OD315_of_Diluted_Wines  Proline  \n",
      "0             5.64  1.04                          3.92     1065  \n",
      "1             4.38  1.05                          3.40     1050  \n",
      "2             5.68  1.03                          3.17     1185  \n",
      "3             7.80  0.86                          3.45     1480  \n",
      "4             4.32  1.04                          2.93      735  \n"
     ]
    }
   ],
   "source": [
    "# Se utiliza la libreria pandas para la lectura del CVS\n",
    "import pandas as pd\n",
    "\n",
    "# Se cargan los datos teniendo en cuenta la referencia de variables\n",
    "df = pd.read_csv('/info_vinos.csv', header=None)\n",
    "df.columns = ['Class', 'Alcohol', 'Malic_Acid', 'Ash', 'Alcalinity_of_Ash', 'Magnesium', 'Total_Phenols', \n",
    "               'Flavanoids', 'Nonflavanoid_Phenols', 'Proanthocyanins', 'Color_Intensity', 'Hue', \n",
    "               'OD280_OD315_of_Diluted_Wines', 'Proline']\n",
    "\n",
    "# Mostrar las primeras filas para visualización\n",
    "print(df.head())"
   ]
  },
  {
   "cell_type": "code",
   "execution_count": null,
   "metadata": {
    "application/vnd.databricks.v1+cell": {
     "cellMetadata": {
      "byteLimit": 2048000,
      "rowLimit": 10000
     },
     "inputWidgets": {},
     "nuid": "0f971cec-6f21-4d6c-a2a9-bf99b6f98a80",
     "showTitle": false,
     "title": ""
    }
   },
   "outputs": [],
   "source": [
    "# Verificar y agregar valores faltantes\n",
    "# Se realiza mediante mean, lo cual con una media de las demás columnas calcula y agrega el valor faltante, implace=true, modifica el dataframe origicnal (df)\n",
    "df.fillna(df.mean(), inplace=True)\n"
   ]
  },
  {
   "cell_type": "code",
   "execution_count": null,
   "metadata": {
    "application/vnd.databricks.v1+cell": {
     "cellMetadata": {
      "byteLimit": 2048000,
      "rowLimit": 10000
     },
     "inputWidgets": {},
     "nuid": "2076f0f0-4721-4209-a6e9-318cd614ac45",
     "showTitle": false,
     "title": ""
    }
   },
   "outputs": [],
   "source": [
    "# Detección y tratamiento de valores atípicos \n",
    "# recorre las columnas del dataframe buscando solo valores numericos, enteros o decimales y devuelve el nombre de las columnas\n",
    "for col in df.select_dtypes(include=['float64', 'int64']).columns:\n",
    "    # identifica las valores del primer 25% quartil \n",
    "    Q1 = df[col].quantile(0.25) \n",
    "    # identifica las valores del tercer 75% quartil \n",
    "    Q3 = df[col].quantile(0.75)\n",
    "    # con esta formula calculamos donde se enceuntra el 50% de los datos \n",
    "    IQR = Q3 - Q1\n",
    "     # Para elmiminar valores atipiocs se busca los valores que estan muy debako o mun encima del cuartilio tomoando como dedida 1.5 el IQR.\n",
    "    df = df[~((df[col] < (Q1 - 1.5 * IQR)) | (df[col] > (Q3 + 1.5 * IQR)))]\n"
   ]
  },
  {
   "cell_type": "code",
   "execution_count": null,
   "metadata": {
    "application/vnd.databricks.v1+cell": {
     "cellMetadata": {
      "byteLimit": 2048000,
      "rowLimit": 10000
     },
     "inputWidgets": {},
     "nuid": "faef7ce2-959d-4305-8e07-dd129e0b034d",
     "showTitle": false,
     "title": ""
    }
   },
   "outputs": [],
   "source": [
    "# Balanceo de la variable clase (cultivo o variedad de uva) utilizando SMOTE\n",
    "# Se separan los conjuntos de datos\n",
    "# Elimina del dataframe la columna cultivo y carga las demas columnas en el Dataframe\n",
    "X = df.drop('Class', axis=1)\n",
    "# Extrae del dataframe unicamente la variable cultivo para realizar el muestreo\n",
    "y = df['Class']\n",
    "# random 42 garantiza que siempte la ejecucións sea la misma \n",
    "smote = SMOTE(random_state=42)\n",
    "# Realiza un sobremuestreo SMOTE agregando valores a la clase que menos muestras tienes para balancear el número de muestras por cada clase\n",
    "X_resampled, y_resampled = smote.fit_resample(X, y)\n"
   ]
  },
  {
   "cell_type": "code",
   "execution_count": null,
   "metadata": {
    "application/vnd.databricks.v1+cell": {
     "cellMetadata": {
      "byteLimit": 2048000,
      "rowLimit": 10000
     },
     "inputWidgets": {},
     "nuid": "54066496-aac7-425f-8f7f-bf7a189d8b54",
     "showTitle": false,
     "title": ""
    }
   },
   "outputs": [],
   "source": [
    "# Escalar los datos numéricos para mejorar el rendimiento de algunos modelos\n",
    "# escala los datos para determinando una media de cero y una desviación estandar de 1, así escala los datos numericos para mejor entendimiento del modelo \n",
    "# Catidad 22 Valor 30000 - Escalados con una muestra de datos -1.1\t-1.5\n",
    "scaler = StandardScaler()\n",
    "# X_resampled_scaled Son los datos escalados para entrenar modelos (Machine learning)\n",
    "X_resampled_scaled = scaler.fit_transform(X_resampled)\n"
   ]
  },
  {
   "cell_type": "code",
   "execution_count": null,
   "metadata": {
    "application/vnd.databricks.v1+cell": {
     "cellMetadata": {
      "byteLimit": 2048000,
      "rowLimit": 10000
     },
     "inputWidgets": {},
     "nuid": "ca5574de-e1e2-4bd8-934a-87f023f853b9",
     "showTitle": false,
     "title": ""
    }
   },
   "outputs": [],
   "source": [
    "# Dividir los datos se entranan con el 70% y se prueba con el otro 30 %\n",
    "X_train, X_test, y_train, y_test = train_test_split(X_resampled_scaled, y_resampled, test_size=0.3, random_state=42)"
   ]
  },
  {
   "cell_type": "code",
   "execution_count": null,
   "metadata": {
    "application/vnd.databricks.v1+cell": {
     "cellMetadata": {
      "byteLimit": 2048000,
      "rowLimit": 10000
     },
     "inputWidgets": {},
     "nuid": "d7ff9415-86f2-439d-bf96-8b8ecc4ea52b",
     "showTitle": false,
     "title": ""
    }
   },
   "outputs": [
    {
     "name": "stdout",
     "output_type": "stream",
     "text": [
      "Random Forest Presición: 1.0\n",
      "Random Forest F1 Puntaje: 1.0\n"
     ]
    },
    {
     "name": "stderr",
     "output_type": "stream",
     "text": [
      "2024/09/13 01:01:17 WARNING mlflow.utils.environment: Encountered an unexpected error while inferring pip requirements (model URI: /local_disk0/repl_tmp_data/ReplId-2854a-57e8c-f014e-5/tmpse4tj3tz/model/model.pkl, flavor: sklearn). Fall back to return ['scikit-learn==1.0.2', 'cloudpickle==3.0.0']. Set logging level to DEBUG to see the full traceback. \n",
      "2024/09/13 01:01:17 WARNING mlflow.models.model: Model logged without a signature and input example. Please set `input_example` parameter when logging the model to auto infer the model signature.\n"
     ]
    },
    {
     "name": "stdout",
     "output_type": "stream",
     "text": [
      "Out[9]: <mlflow.models.model.ModelInfo at 0x7f1afd854d60>"
     ]
    }
   ],
   "source": [
    "# Entrenamiento con Random Forest\n",
    "# RandomForest utiliza diferentes arboles de datos para mejorar la presición del modelo de datos\n",
    "rf_model = RandomForestClassifier(random_state=42)\n",
    "# El modelo aprende de las variables analizadas (X_train) del conjunto de datos de entrenamiento y la variable a predecir y_train para aprender \n",
    "# los patrones y realizar las predicciones\n",
    "rf_model.fit(X_train, y_train)\n",
    "# Una vez entrenado el modelo esta linea realiza las predicciones en una lista llamada y_pred_rf, representa la clse de uva que el modelo predice con el conjunto de prueba\n",
    "y_pred_rf = rf_model.predict(X_test)\n",
    "\n",
    "# Métricas de rendimiento\n",
    "# Se calcula la presición del modelo, con las predicciones correctas obtenidas de comparar el conjunto de prueba y las predichas por el modelo\n",
    "accuracy_rf = accuracy_score(y_test, y_pred_rf)\n",
    "# otorga un puntaje ponderado a cada clase de uva según las predicciones correctas, average='weighted' le da mas peso a las clases con más ejemplos\n",
    "f1_rf = f1_score(y_test, y_pred_rf, average='weighted')\n",
    "# Mide los aciertos globales y no especificamente las clases, opción correcta si las clases estan balanceadas.\n",
    "print(\"Random Forest Presición:\", accuracy_rf)\n",
    "# Mide los aciertos por cada clase y utiliza una formula que da más peso a las clases con mas muestras.\n",
    "print(\"Random Forest F1 Puntaje:\", f1_rf)\n",
    "# El resultado de estas variables puede determinarse así: Excelente 1.0, Bueno 0.7 - 0.9 REndimiento bueno Aceptable 0.5 -  0.7 Rendimiento aceptable  menos de 0.5 el modelo no esta funcionando biuen (mal clasificado, se requieren mas datos)\n",
    "\n",
    "# Registrar las métricas y el modelo en MLflow\n",
    "mlflow.log_metric(\"accuracy_rf\", accuracy_rf)\n",
    "mlflow.log_metric(\"f1_rf\", f1_rf)\n",
    "mlflow.sklearn.log_model(rf_model, \"RandomForestModel\")\n"
   ]
  },
  {
   "cell_type": "code",
   "execution_count": null,
   "metadata": {
    "application/vnd.databricks.v1+cell": {
     "cellMetadata": {
      "byteLimit": 2048000,
      "rowLimit": 10000
     },
     "inputWidgets": {},
     "nuid": "f1ced46a-47b6-4af7-b7b7-6c88d23001b0",
     "showTitle": false,
     "title": ""
    }
   },
   "outputs": [
    {
     "name": "stdout",
     "output_type": "stream",
     "text": [
      "SVM Presición: 1.0\n",
      "SVM F1 Puntaje: 1.0\n"
     ]
    },
    {
     "name": "stderr",
     "output_type": "stream",
     "text": [
      "2024/09/13 01:04:43 WARNING mlflow.utils.environment: Encountered an unexpected error while inferring pip requirements (model URI: /local_disk0/repl_tmp_data/ReplId-2854a-57e8c-f014e-5/tmp02ai3p44/model/model.pkl, flavor: sklearn). Fall back to return ['scikit-learn==1.0.2', 'cloudpickle==3.0.0']. Set logging level to DEBUG to see the full traceback. \n",
      "2024/09/13 01:04:43 WARNING mlflow.models.model: Model logged without a signature and input example. Please set `input_example` parameter when logging the model to auto infer the model signature.\n"
     ]
    },
    {
     "name": "stdout",
     "output_type": "stream",
     "text": [
      "Out[11]: <mlflow.models.model.ModelInfo at 0x7f1b24504d00>"
     ]
    }
   ],
   "source": [
    "# Entrenamiento con SVM\n",
    "# SVN Crea vectores de cada clase buscando encontrar formas de separlkas e identificarlas y así clasificar mejor el modelo.\n",
    "svm_model = SVC(random_state=42)\n",
    "svm_model.fit(X_train, y_train)\n",
    "y_pred_svm = svm_model.predict(X_test)\n",
    "\n",
    "# Métricas de rendimiento\n",
    "accuracy_svm = accuracy_score(y_test, y_pred_svm)\n",
    "f1_svm = f1_score(y_test, y_pred_svm, average='weighted')\n",
    "\n",
    "print(\"SVM Presición:\", accuracy_svm)\n",
    "print(\"SVM F1 Puntaje:\", f1_svm)\n",
    "\n",
    "# Registrar las métricas y el modelo en MLflow\n",
    "mlflow.log_metric(\"accuracy_svm\", accuracy_svm)\n",
    "mlflow.log_metric(\"f1_svm\", f1_svm)\n",
    "mlflow.sklearn.log_model(rf_model, \"SVMModel\")\n"
   ]
  },
  {
   "cell_type": "code",
   "execution_count": null,
   "metadata": {
    "application/vnd.databricks.v1+cell": {
     "cellMetadata": {
      "byteLimit": 2048000,
      "rowLimit": 10000
     },
     "inputWidgets": {},
     "nuid": "6b3c24e6-0ba3-4df9-a71f-719338997fbf",
     "showTitle": false,
     "title": ""
    }
   },
   "outputs": [
    {
     "name": "stdout",
     "output_type": "stream",
     "text": [
      "Gradient Boosting Presición: 0.8727272727272727\n",
      "Gradient Boosting F1 Puntaje: 0.8723232323232323\n"
     ]
    },
    {
     "name": "stderr",
     "output_type": "stream",
     "text": [
      "2024/09/13 01:05:14 WARNING mlflow.utils.environment: Encountered an unexpected error while inferring pip requirements (model URI: /local_disk0/repl_tmp_data/ReplId-2854a-57e8c-f014e-5/tmp6a2do0f9/model/model.pkl, flavor: sklearn). Fall back to return ['scikit-learn==1.0.2', 'cloudpickle==3.0.0']. Set logging level to DEBUG to see the full traceback. \n",
      "2024/09/13 01:05:14 WARNING mlflow.models.model: Model logged without a signature and input example. Please set `input_example` parameter when logging the model to auto infer the model signature.\n"
     ]
    },
    {
     "name": "stdout",
     "output_type": "stream",
     "text": [
      "Out[13]: <mlflow.models.model.ModelInfo at 0x7f1afcbb7cd0>"
     ]
    }
   ],
   "source": [
    "# Entrenamiento con Gradient Boosting\n",
    "# Gradient Boosting utiliza arboles de datos de forma secuencial, corrigiendo en los errores en cada arbol nuevo\n",
    "gb_model = GradientBoostingClassifier(random_state=42)\n",
    "gb_model.fit(X_train, y_train)\n",
    "y_pred_gb = gb_model.predict(X_test)\n",
    "\n",
    "# Métricas de rendimiento\n",
    "accuracy_gb = accuracy_score(y_test, y_pred_gb)\n",
    "f1_gb = f1_score(y_test, y_pred_gb, average='weighted')\n",
    "\n",
    "print(\"Gradient Boosting Presición:\", accuracy_gb)\n",
    "print(\"Gradient Boosting F1 Puntaje:\", f1_gb)\n",
    "\n",
    "\n",
    "# Registrar las métricas y el modelo en MLflow\n",
    "mlflow.log_metric(\"accuracy_gb\", accuracy_gb)\n",
    "mlflow.log_metric(\"f1_gb\", f1_gb)\n",
    "mlflow.sklearn.log_model(rf_model, \"GBModel\")\n"
   ]
  },
  {
   "cell_type": "code",
   "execution_count": null,
   "metadata": {
    "application/vnd.databricks.v1+cell": {
     "cellMetadata": {
      "byteLimit": 2048000,
      "rowLimit": 10000
     },
     "inputWidgets": {},
     "nuid": "003e2dd6-2b25-420c-83ed-6be93f0d1cce",
     "showTitle": false,
     "title": ""
    }
   },
   "outputs": [
    {
     "name": "stdout",
     "output_type": "stream",
     "text": [
      "              Modelo  Presición  F1 Puntaje\n",
      "0      Random Forest   1.000000    1.000000\n",
      "1                SVM   1.000000    1.000000\n",
      "2  Gradient Boosting   0.872727    0.872323\n"
     ]
    }
   ],
   "source": [
    "# Comparación de los resultados\n",
    "# Se crea un dataframe con los resultados de los 3 modelos\n",
    "model_performance = pd.DataFrame({\n",
    "    'Modelo': ['Random Forest', 'SVM', 'Gradient Boosting'],\n",
    "    'Presición': [accuracy_rf, accuracy_svm, accuracy_gb],\n",
    "    'F1 Puntaje': [f1_rf, f1_svm, f1_gb]\n",
    "})\n",
    "\n",
    "print(model_performance)"
   ]
  },
  {
   "cell_type": "code",
   "execution_count": null,
   "metadata": {
    "application/vnd.databricks.v1+cell": {
     "cellMetadata": {
      "byteLimit": 2048000,
      "rowLimit": 10000
     },
     "inputWidgets": {},
     "nuid": "7f34b782-e389-4df1-9a4e-c3ec6f8af2dd",
     "showTitle": false,
     "title": ""
    }
   },
   "outputs": [
    {
     "data": {
      "image/png": "[encoded data removed]"
     },
     "metadata": {
      "application/vnd.databricks.v1+output": {
       "addedWidgets": {},
       "arguments": {},
       "data": "data:image/png;base64,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\n",
       "datasetInfos": [],
       "metadata": {},
       "removedWidgets": [],
       "type": "image"
      }
     },
     "output_type": "display_data"
    },
    {
     "data": {
      "image/png": "[encoded data removed]"
     },
     "metadata": {
      "application/vnd.databricks.v1+output": {
       "addedWidgets": {},
       "arguments": {},
       "data": "data:image/png;base64,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\n",
       "datasetInfos": [],
       "metadata": {},
       "removedWidgets": [],
       "type": "image"
      }
     },
     "output_type": "display_data"
    }
   ],
   "source": [
    "# Gráficos de comparación de las métricas de rendimiento\n",
    "plt.figure(figsize=(10, 6))\n",
    "sns.barplot(x='Modelo', y='Presición', data=model_performance)\n",
    "plt.title('Comparación de Presición por Modelo')\n",
    "plt.show()\n",
    "\n",
    "plt.figure(figsize=(10, 6))\n",
    "sns.barplot(x='Modelo', y='F1 Puntaje', data=model_performance)\n",
    "plt.title('Comparación de F1 Score por Modelo')\n",
    "plt.show()\n"
   ]
  },
  {
   "cell_type": "code",
   "execution_count": null,
   "metadata": {
    "application/vnd.databricks.v1+cell": {
     "cellMetadata": {
      "byteLimit": 2048000,
      "rowLimit": 10000
     },
     "inputWidgets": {},
     "nuid": "cf6e050b-a683-4a19-a361-fb6181ca2020",
     "showTitle": false,
     "title": ""
    }
   },
   "outputs": [
    {
     "name": "stdout",
     "output_type": "stream",
     "text": [
      "Predicciones Random Forest para las nuevas muestras:\n",
      "Muestra 1: Variedad de uva 1\n",
      "Muestra 2: Variedad de uva 2\n",
      "Predicciones SVM para las nuevas muestras:\n",
      "Muestra 1: Variedad de uva 1\n",
      "Muestra 2: Variedad de uva 2\n",
      "Predicciones Gradient Boosting para las nuevas muestras:\n",
      "Muestra 1: Variedad de uva 1\n",
      "Muestra 2: Variedad de uva 2\n"
     ]
    }
   ],
   "source": [
    "new_samples = pd.DataFrame([\n",
    "    [13.72, 1.43, 2.5, 16.7, 108, 3.4, 3.67, 0.19, 2.04, 6.8, 0.89, 2.87, 1285],\n",
    "    [12.37, 0.94, 1.36, 10.6, 88, 1.98, 0.57, 0.28, 0.42, 1.95, 1.05, 1.82, 520]\n",
    "], columns=['Alcohol', 'Malic_Acid', 'Ash', 'Alcalinity_of_Ash', 'Magnesium', 'Total_Phenols', \n",
    "            'Flavanoids', 'Nonflavanoid_Phenols', 'Proanthocyanins', 'Color_Intensity', 'Hue', \n",
    "            'OD280_OD315_of_Diluted_Wines', 'Proline'])\n",
    "\n",
    "# Escalar las nuevas muestras\n",
    "new_samples_scaled = scaler.transform(new_samples)\n",
    "\n",
    "# Realizar la predicción Random Forest\n",
    "predictions = rf_model.predict(new_samples_scaled)\n",
    "\n",
    "# Mostrar los resultados de la predicción\n",
    "print(\"Predicciones Random Forest para las nuevas muestras:\")\n",
    "for i, pred in enumerate(predictions):\n",
    "    print(f\"Muestra {i + 1}: Variedad de uva {pred}\")\n",
    "\n",
    "# Realizar la predicción con SVM\n",
    "predictions = svm_model.predict(new_samples_scaled)\n",
    "\n",
    "# Mostrar los resultados de la predicción\n",
    "print(\"Predicciones SVM para las nuevas muestras:\")\n",
    "for i, pred in enumerate(predictions):\n",
    "    print(f\"Muestra {i + 1}: Variedad de uva {pred}\")\n",
    "\n",
    "# Realizar la predicción Gradient Boosting\n",
    "predictions = gb_model.predict(new_samples_scaled)\n",
    "\n",
    "# Mostrar los resultados de la predicción\n",
    "print(\"Predicciones Gradient Boosting para las nuevas muestras:\")\n",
    "for i, pred in enumerate(predictions):\n",
    "    print(f\"Muestra {i + 1}: Variedad de uva {pred}\")"
   ]
  },
  {
   "cell_type": "code",
   "execution_count": null,
   "metadata": {
    "application/vnd.databricks.v1+cell": {
     "cellMetadata": {},
     "inputWidgets": {},
     "nuid": "e7c18372-7214-454c-ab90-e4409d5791c3",
     "showTitle": false,
     "title": ""
    }
   },
   "outputs": [],
   "source": []
  }
 ],
 "metadata": {
  "application/vnd.databricks.v1+notebook": {
   "dashboards": [],
   "environmentMetadata": null,
   "language": "python",
   "notebookMetadata": {
    "pythonIndentUnit": 4
   },
   "notebookName": "clasificacion_vinos",
   "widgets": {
    "param_1": {
     "currentValue": "",
     "nuid": "d89dca7a-1597-4904-a981-40522854327a",
     "typedWidgetInfo": null,
     "widgetInfo": {
      "defaultValue": "",
      "label": "",
      "name": "param_1",
      "options": {
       "autoCreated": false,
       "validationRegex": null,
       "widgetType": "text"
      },
      "widgetType": "text"
     }
    }
   }
  },
  "kernelspec": {
   "display_name": "Python 3 (ipykernel)",
   "language": "python",
   "name": "python3"
  },
  "language_info": {
   "codemirror_mode": {
    "name": "ipython",
    "version": 3
   },
   "file_extension": ".py",
   "mimetype": "text/x-python",
   "name": "python",
   "nbconvert_exporter": "python",
   "pygments_lexer": "ipython3",
   "version": "3.9.13"
  }
 },
 "nbformat": 4,
 "nbformat_minor": 4
}
